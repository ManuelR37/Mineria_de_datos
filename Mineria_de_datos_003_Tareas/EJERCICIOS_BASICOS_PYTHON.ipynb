{
 "cells": [
  {
   "cell_type": "markdown",
   "metadata": {},
   "source": [
    "# Ejericios Basicos de Python\n",
    "* Manuel de Jesús Vázquez Bocanegra 1823593"
   ]
  },
  {
   "cell_type": "markdown",
   "metadata": {},
   "source": [
    "# Ejercicio 1:\n",
    "\n",
    "Realiza una variable con tu matricula y realiza una secuencia de imprimir con tu nombre y tu matricula concatenados.\n"
   ]
  },
  {
   "cell_type": "code",
   "execution_count": 39,
   "metadata": {},
   "outputs": [
    {
     "name": "stdout",
     "output_type": "stream",
     "text": [
      "Manuel de Jesús Vázquez Bocanegra 1823593\n"
     ]
    }
   ],
   "source": [
    "Matricula = 1823593\n",
    "Nombre= \"Manuel de Jesús Vázquez Bocanegra \" + str(Matricula)\n",
    "print(Nombre)"
   ]
  },
  {
   "cell_type": "markdown",
   "metadata": {},
   "source": [
    "# Ejercicio 2:\n",
    "Pidiendo el input del usuario pide dos números y crea una pequeña calculadora con los operadores básicos de suma, resta, multiplicación, división, y exponente.\n",
    "\n",
    "Utilizando el loop de while"
   ]
  },
  {
   "cell_type": "code",
   "execution_count": 2,
   "metadata": {},
   "outputs": [],
   "source": [
    "def Resta(a,b):\n",
    "    op=int(input(f\"\"\"Que desea hacer\n",
    "    1)  {a} - {b}\n",
    "    2)  {b} - {a}\n",
    "    Ingrese la opción que desea realizar:\"\"\"))\n",
    "    print(\"\\n\")\n",
    "    if op==1:\n",
    "        print(f\"la resta de {a} - {b} = {a-b}\")\n",
    "    elif op==2:\n",
    "        print(f\"la resta de {b} - {a} = {b-a}\")\n",
    "\n",
    "def Division(a,b):\n",
    "    op = int(input(f\"\"\"Que desea hacer\n",
    "       1)  {a} / {b}\n",
    "       2)  {b} / {a}\n",
    "       Ingrese la opción que desea realizar:\"\"\"))\n",
    "    print(\"\\n\")\n",
    "    if op == 1:\n",
    "        print(f\"la resta de {a} / {b} = {a / b}\")\n",
    "    elif op == 2:\n",
    "        print(f\"la resta de {b} / {a} = {b / a}\")\n",
    "\n",
    "def Exponente(a,b):\n",
    "    op = int(input(f\"\"\"Que desea hacer\n",
    "       1)  {a} ** {b}\n",
    "       2)  {b} ** {a}\n",
    "       Ingrese la opción que desea realizar:\"\"\"))\n",
    "    if op == 1:\n",
    "        print(f\"la resta de {a} ** {b} = {a ** b}\")\n",
    "    elif op == 2:\n",
    "        print(f\"la resta de {b} ** {a} = {b ** a}\")"
   ]
  },
  {
   "cell_type": "code",
   "execution_count": 3,
   "metadata": {},
   "outputs": [
    {
     "name": "stdout",
     "output_type": "stream",
     "text": [
      "Ingrese el primer numero: 2\n",
      "Ingrese el segundo numero: 3\n",
      " \n",
      "Menu Calculadora\n",
      "    1.- Suma\n",
      "    2.- Resta\n",
      "    3.- Multiplicación\n",
      "    4.- division\n",
      "    5.- Exponente\n",
      "    6.- Cambiar Numeros\n",
      "    7.- Salir\n",
      "    Ingrese la opción que deseé hacer: 2\n",
      "Que desea hacer\n",
      "    1)  2.0 - 3.0\n",
      "    2)  3.0 - 2.0\n",
      "    Ingrese la opción que desea realizar:2\n",
      "\n",
      "\n",
      "la resta de 3.0 - 2.0 = 1.0\n",
      " \n",
      "Menu Calculadora\n",
      "    1.- Suma\n",
      "    2.- Resta\n",
      "    3.- Multiplicación\n",
      "    4.- division\n",
      "    5.- Exponente\n",
      "    6.- Cambiar Numeros\n",
      "    7.- Salir\n",
      "    Ingrese la opción que deseé hacer: 7\n"
     ]
    }
   ],
   "source": [
    "\n",
    "Numero_1=float(input(\"Ingrese el primer numero: \"))\n",
    "Numero_2=float(input(\"Ingrese el segundo numero: \"))\n",
    "\n",
    "while True:\n",
    "    opcion=int(input(f\"\"\" \\nMenu Calculadora\n",
    "    1.- Suma\n",
    "    2.- Resta\n",
    "    3.- Multiplicación\n",
    "    4.- division\n",
    "    5.- Exponente\n",
    "    6.- Cambiar Numeros\n",
    "    7.- Salir\n",
    "    Ingrese la opción que deseé hacer: \"\"\"))\n",
    "    if opcion==1:\n",
    "        print(f\"\\nla suma de {Numero_1} + {Numero_2} = {Numero_1 + Numero_2}\")\n",
    "   \n",
    "    elif opcion==2:\n",
    "        Resta(Numero_1,Numero_2)\n",
    "    elif opcion==3:\n",
    "        print(f\"\\nLa Multiplicación de {Numero_1} * {Numero_2} = { Numero_1 * Numero_2}\")\n",
    "    elif opcion==4:\n",
    "        Division(Numero_1, Numero_2)\n",
    "    elif opcion==5:\n",
    "        Exponente(Numero_1, Numero_2)\n",
    "    elif opcion==6:\n",
    "        Numero_1 = float(input(\"Ingrese el primer numero: \"))\n",
    "        Numero_2 = float(input(\"Ingrese el segundo numero: \"))\n",
    "    elif opcion==7:\n",
    "        break\n",
    "    else:\n",
    "        print(\"\\nError, seleccione la opción correcta\")\n",
    "      \n"
   ]
  },
  {
   "cell_type": "markdown",
   "metadata": {},
   "source": [
    "# Ejercicio 3: \n",
    "\n",
    "Con loop while o for, realiza una lista de 10 numeros multiplos de 3, y después realiza una función de loop que sume todos los números dentro del arreglo."
   ]
  },
  {
   "cell_type": "code",
   "execution_count": 4,
   "metadata": {},
   "outputs": [
    {
     "name": "stdout",
     "output_type": "stream",
     "text": [
      "[3, 6, 9, 12, 15, 18, 21, 24, 27, 30]\n",
      "la suma de todos los numeros de la lista es: 165\n"
     ]
    }
   ],
   "source": [
    "i=0\n",
    "suma=0\n",
    "Lista=[]\n",
    "while i<10:\n",
    "    Lista.append((i+1)*3)\n",
    "    i+=1\n",
    "\n",
    "print(Lista)\n",
    "\n",
    "for i in Lista:\n",
    "    suma+=i\n",
    "\n",
    "print(f\"la suma de todos los numeros de la lista es: {suma}\")"
   ]
  },
  {
   "cell_type": "markdown",
   "metadata": {},
   "source": [
    "# Ejercicio 4\n",
    "* Con una función de if else, revisar si un número es par o es impar.\n",
    "* Con una función de if else, revisar si un número es primo o no.\n",
    "\n",
    "Uso de funciones en python:"
   ]
  },
  {
   "cell_type": "code",
   "execution_count": 6,
   "metadata": {},
   "outputs": [
    {
     "name": "stdout",
     "output_type": "stream",
     "text": [
      "Digite un numero: 9\n",
      "El numero es impar\n"
     ]
    }
   ],
   "source": [
    "Numero=int(input(\"Digite un numero: \"))\n",
    "if Numero%2==0:\n",
    "    print(\"El numero es par\")\n",
    "else:\n",
    "    print(\"El numero es impar\")"
   ]
  },
  {
   "cell_type": "code",
   "execution_count": 7,
   "metadata": {},
   "outputs": [
    {
     "name": "stdout",
     "output_type": "stream",
     "text": [
      "Digite un numero: 97\n",
      "El numero es primo\n"
     ]
    }
   ],
   "source": [
    "Numero=int(input(\"Digite un numero: \"))\n",
    "primo=False\n",
    "for i in range(2,int(Numero/2)+1):\n",
    "    if(Numero%i==0):\n",
    "        primo=True\n",
    "if primo:\n",
    "    print(\"El numero no es primo\")\n",
    "else:\n",
    "    print(\"El numero es primo\")"
   ]
  },
  {
   "cell_type": "markdown",
   "metadata": {},
   "source": [
    "# Ejercicio 5\n",
    "\n",
    "Utilizando diferentes clases en python, crea una calculadora con los operadores básicos de suma, resta, multiplicación, división, y exponente.\n",
    "\n",
    "Funciones matemáticas en la librería de math en python:"
   ]
  },
  {
   "cell_type": "code",
   "execution_count": 6,
   "metadata": {},
   "outputs": [
    {
     "name": "stdout",
     "output_type": "stream",
     "text": [
      "Ingrese el primer numero: 4\n",
      "Ingrese el segundo numero: 2\n",
      " \n",
      "---------[ Menu Calculadora ]---------\n",
      "        1.- Suma\n",
      "        2.- Resta\n",
      "        3.- Multiplicación\n",
      "        4.- division\n",
      "        5.- Exponente\n",
      "        6.- Cambiar Numeros\n",
      "        7.- Salir\n",
      "        Ingrese la opción que deseé hacer: 1\n",
      "--> 4.0 + 2.0 = 6.0\n",
      " \n",
      "---------[ Menu Calculadora ]---------\n",
      "        1.- Suma\n",
      "        2.- Resta\n",
      "        3.- Multiplicación\n",
      "        4.- division\n",
      "        5.- Exponente\n",
      "        6.- Cambiar Numeros\n",
      "        7.- Salir\n",
      "        Ingrese la opción que deseé hacer: 7\n"
     ]
    }
   ],
   "source": [
    "class operaciones:\n",
    "    __Numero1=0\n",
    "    __Numero2=0\n",
    "    def DeclararNum(self):\n",
    "        self.__Numero1 = float(input(\"Ingrese el primer numero: \"))\n",
    "        self.__Numero2= float(input(\"Ingrese el segundo numero: \"))\n",
    "    def sumar(self):\n",
    "        print(f\"--> {self.__Numero1} + {self.__Numero2} = {self.__Numero1+self.__Numero2}\")\n",
    "    def restar(self):\n",
    "        op = int(input(f\"\"\"\\tQue desea hacer\n",
    "           1)  {self.__Numero1} - {self.__Numero2}\n",
    "           2)  {self.__Numero2} - {self.__Numero1}\n",
    "           Ingrese la opción que desea realizar:\"\"\"))\n",
    "        print(\"\\n\")\n",
    "        if op == 1:\n",
    "            print(f\"--> {self.__Numero1} - {self.__Numero2} = {self.__Numero1 - self.__Numero2}\")\n",
    "        elif op == 2:\n",
    "            print(f\"--> {self.__Numero2} - {self.__Numero1} = {self.__Numero2 - self.__Numero1}\")\n",
    "    def multiplicar(self):\n",
    "        print(f\"--> {self.__Numero1} * {self.__Numero2} = {self.__Numero1 * self.__Numero2}\")\n",
    "    def division(self):\n",
    "        op = int(input(f\"\"\"\\tQue desea hacer\n",
    "               1)  {self.__Numero1} / {self.__Numero2}\n",
    "               2)  {self.__Numero2} / {self.__Numero1}\n",
    "               Ingrese la opción que desea realizar:\"\"\"))\n",
    "        print(\"\\n\")\n",
    "        if op == 1:\n",
    "            print(f\"--> {self.__Numero1} / {self.__Numero2} = {self.__Numero1 / self.__Numero2}\")\n",
    "        elif op == 2:\n",
    "            print(f\"--> {self.__Numero2} / {self.__Numero1} = {self.__Numero2 / self.__Numero1}\")\n",
    "    def exponente(self):\n",
    "        op = int(input(f\"\"\"\\tQue desea hacer\n",
    "               1)  {self.__Numero1} ** {self.__Numero2}\n",
    "               2)  {self.__Numero2} ** {self.__Numero1}\n",
    "               Ingrese la opción que desea realizar:\"\"\"))\n",
    "        if op == 1:\n",
    "            print(f\"--> la resta de {self.__Numero1} ** {self.__Numero2} = {self.__Numero1 ** self.__Numero2}\")\n",
    "        elif op == 2:\n",
    "            print(f\"--> la resta de {self.__Numero2} ** {self.__Numero1} = {self.__Numero2 ** self.__Numero1}\")\n",
    "    def Menucalculadora(self):\n",
    "        seleccion = int(input(f\"\"\" \\n---------[ Menu Calculadora ]---------\n",
    "        1.- Suma\n",
    "        2.- Resta\n",
    "        3.- Multiplicación\n",
    "        4.- division\n",
    "        5.- Exponente\n",
    "        6.- Cambiar Numeros\n",
    "        7.- Salir\n",
    "        Ingrese la opción que deseé hacer: \"\"\"))\n",
    "        return seleccion\n",
    "\n",
    "calculadora=operaciones()\n",
    "calculadora.DeclararNum()\n",
    "while True:\n",
    "\n",
    "    opcion=calculadora.Menucalculadora()\n",
    "    if opcion == 1:\n",
    "        calculadora.sumar()\n",
    "    elif opcion == 2:\n",
    "        calculadora.restar()\n",
    "    elif opcion == 3:\n",
    "        calculadora.multiplicar()\n",
    "    elif opcion == 4:\n",
    "        calculadora.division()\n",
    "    elif opcion == 5:\n",
    "        calculadora.exponente()\n",
    "    elif opcion == 6:\n",
    "        calculadora.DeclararNum()\n",
    "    elif opcion == 7:\n",
    "        break\n",
    "    else:\n",
    "        print(\"\\nError, seleccione la opción correcta\")"
   ]
  },
  {
   "cell_type": "markdown",
   "metadata": {},
   "source": [
    "# Ejercicios con estructuras básicas de python."
   ]
  },
  {
   "cell_type": "markdown",
   "metadata": {},
   "source": [
    "# **1 - Tuplas**\n",
    "\n",
    "**1.1 - Crear una variable flotante, integer, boleana y compleja e imprimir el tipo de variable que es.**\n",
    "\n"
   ]
  },
  {
   "cell_type": "code",
   "execution_count": 2,
   "metadata": {},
   "outputs": [
    {
     "name": "stdout",
     "output_type": "stream",
     "text": [
      "<class 'float'> <class 'int'> <class 'bool'> <class 'complex'>\n"
     ]
    }
   ],
   "source": [
    "flotante=0.25\n",
    "entero=10\n",
    "booleano=True\n",
    "complejo=10+3j\n",
    "print(type(flotante),type(entero),type(booleano),type(complejo))"
   ]
  },
  {
   "cell_type": "markdown",
   "metadata": {},
   "source": [
    "**1.2 - Crear una tupla con valores enteros imprimir el primer y ultimo valor.**\n",
    "\n"
   ]
  },
  {
   "cell_type": "code",
   "execution_count": 3,
   "metadata": {},
   "outputs": [
    {
     "name": "stdout",
     "output_type": "stream",
     "text": [
      "1 -88\n"
     ]
    }
   ],
   "source": [
    "tupla=(1,2,3,4,5,6,20,120,-88)\n",
    "\n",
    "print(tupla[0],tupla[-1])"
   ]
  },
  {
   "cell_type": "markdown",
   "metadata": {},
   "source": [
    "**1.3 - Añadir 3 valores de string a la tupla.**\n",
    "\n"
   ]
  },
  {
   "cell_type": "code",
   "execution_count": 4,
   "metadata": {},
   "outputs": [
    {
     "name": "stdout",
     "output_type": "stream",
     "text": [
      "(1, 2, 3, 4, 5, 6, 20, 120, -88, 'hola', 'Mundo', 'Python') <class 'tuple'>\n"
     ]
    }
   ],
   "source": [
    "tupla2=tupla+(\"hola\",\"Mundo\",\"Python\")\n",
    "print(tupla2,type(tupla2))"
   ]
  },
  {
   "cell_type": "markdown",
   "metadata": {},
   "source": [
    "**1.4 - Verificar si una variable existe dentro de la tupla.**"
   ]
  },
  {
   "cell_type": "code",
   "execution_count": 5,
   "metadata": {},
   "outputs": [
    {
     "data": {
      "text/plain": [
       "True"
      ]
     },
     "execution_count": 5,
     "metadata": {},
     "output_type": "execute_result"
    }
   ],
   "source": [
    "\"hola\" in tupla2"
   ]
  },
  {
   "cell_type": "markdown",
   "metadata": {},
   "source": [
    "# **2 - Listas**\n",
    "\n",
    "**2.1 - Crear una lista con 40 elementos aleatorios enteros.**\n"
   ]
  },
  {
   "cell_type": "code",
   "execution_count": 41,
   "metadata": {},
   "outputs": [
    {
     "name": "stdout",
     "output_type": "stream",
     "text": [
      "[-57190, -96583, 57885, -9913, 44785, 57244, 72155, 63473, -92098, -1327, -26586, 44590, -57956, 25673, 34980, 7171, -69607, 11743, -7004, -19996, -49476, -85181, 35326, 36400, 7678, -71013, 63896, 19587, -15334, 44672, 48407, -14408, -961, -77209, -40178, 98473, 28404, -4550, -46654, -70963] 40\n"
     ]
    }
   ],
   "source": [
    "import random \n",
    "Lista=[random.randint(-99999,99999) for i in range(0,40)]\n",
    "print(Lista,len(Lista))"
   ]
  },
  {
   "cell_type": "markdown",
   "metadata": {},
   "source": [
    "**2.2 - Con una funcion (def) crear dos listas nuevas a partir de la lista creada por numeros aleatorios, en la cual en una esten los elementos pares, y en la otra los elementos impares.**\n"
   ]
  },
  {
   "cell_type": "code",
   "execution_count": 17,
   "metadata": {},
   "outputs": [],
   "source": [
    "def Listas_par_impar(listas,num):\n",
    "    Pares = []\n",
    "    Impares = []\n",
    "    for i in listas:\n",
    "        if (i % 2 == 0):\n",
    "            Pares.append(i)\n",
    "        else:\n",
    "            Impares.append(i)\n",
    "\n",
    "    if num:\n",
    "        return (Pares)\n",
    "    else:\n",
    "        return (Impares)"
   ]
  },
  {
   "cell_type": "code",
   "execution_count": 18,
   "metadata": {},
   "outputs": [],
   "source": [
    "Lista_pares=Listas_par_impar(Lista,True)\n",
    "Lista_impares=Listas_par_impar(Lista,False)"
   ]
  },
  {
   "cell_type": "code",
   "execution_count": 19,
   "metadata": {},
   "outputs": [
    {
     "name": "stdout",
     "output_type": "stream",
     "text": [
      "pares: [-46270, -9690, 26894, 44450, 30946, -48924, 83196, -58716, -32144, 4366, -74512, 628, -4834, 34096, 54476, 77248, -67250, 29906, 37362, 80216, -9264]\n",
      "\n",
      "Impares: [55107, -69109, 80599, 69297, 56543, -43321, -49565, -34149, 99101, 71935, 28269, 11997, -43609, -72019, 38483, -85587, -50557, -87021, 96341]\n"
     ]
    }
   ],
   "source": [
    "print(f\"pares: {Lista_pares}\")\n",
    "print(f\"\\nImpares: {Lista_impares}\")"
   ]
  },
  {
   "cell_type": "markdown",
   "metadata": {},
   "source": [
    "**2.3 - Crear dos variables con la longitud de ambas listas nuevas e imprimir las variables.**"
   ]
  },
  {
   "cell_type": "code",
   "execution_count": 15,
   "metadata": {},
   "outputs": [
    {
     "name": "stdout",
     "output_type": "stream",
     "text": [
      "lognitud pares: 20\n",
      "longitud impares: 20\n"
     ]
    }
   ],
   "source": [
    "longitud_listapares=len(Lista_pares)\n",
    "longitud_listaimpares=len(Lista_impares)\n",
    "print(f\"lognitud pares: {longitud_listapares}\")\n",
    "print(f\"longitud impares: {longitud_listaimpares}\")"
   ]
  },
  {
   "cell_type": "markdown",
   "metadata": {},
   "source": [
    "**2.4 - Ordenar los elementos de la lista par de mayor a menor, y los de la lista impar de menor a mayor.**\n"
   ]
  },
  {
   "cell_type": "code",
   "execution_count": 16,
   "metadata": {},
   "outputs": [
    {
     "name": "stdout",
     "output_type": "stream",
     "text": [
      "pares rdenados (mayor a menor): [87292, 73770, 58482, 49902, 49036, 36228, 35868, 33750, -9322, -11244, -15204, -27630, -31368, -41552, -51488, -73538, -74714, -77502, -81644, -83484]\n",
      "\n",
      "impares ordenados (menor a mayor): [-76997, -66729, -44675, -43351, -42405, -39317, -34793, -28321, -13347, -4145, 7053, 10737, 28849, 34411, 44831, 49747, 64821, 66211, 76017, 95279]\n"
     ]
    }
   ],
   "source": [
    "Lista_pares.sort(reverse=True)\n",
    "Lista_impares.sort()\n",
    "print(f\"pares rdenados (mayor a menor): {Lista_pares}\")\n",
    "print(f\"\\nimpares ordenados (menor a mayor): {Lista_impares}\")"
   ]
  },
  {
   "cell_type": "markdown",
   "metadata": {},
   "source": [
    "**2.5 - Utilizar al menos cuatro de las funciones de listas en python en la lista original de 40 elementos.**"
   ]
  },
  {
   "cell_type": "code",
   "execution_count": 22,
   "metadata": {},
   "outputs": [
    {
     "name": "stdout",
     "output_type": "stream",
     "text": [
      "[-87021, -85587, -74512, -72019, -69109, -67250, -58716, -50557, -49565, -48924, -46270, -43609, -43321, -34149, -32144, -9690, -9264, -4834, -234, 1, 3, 5, 21, 100, 100, 100, 345, 628, 4366, 11997, 26894, 28269, 29906, 30946, 34096, 37362, 38483, 44450, 54476, 55107, 56543, 69297, 71935, 77248, 80216, 80599, 83196, 96341, 99101, -234, 345, 21]\n"
     ]
    }
   ],
   "source": [
    "Lista.append(100) \n",
    "Lista.reverse()  \n",
    "Lista.sort()    \n",
    "Lista.extend([-234,345,21])\n",
    "print(Lista)"
   ]
  },
  {
   "cell_type": "markdown",
   "metadata": {},
   "source": [
    "# 3 - Diccionarios\n",
    "\n",
    "**3.1 - Crear un diccionario de 6 personas que conozcas con su primer nombre y su edad.**\n"
   ]
  },
  {
   "cell_type": "code",
   "execution_count": 32,
   "metadata": {},
   "outputs": [
    {
     "name": "stdout",
     "output_type": "stream",
     "text": [
      "{'Manuel': 20, 'Natalia': 18, 'Denisse ': 20, 'Daniel ': 21, 'Tadeo ': 20, 'Ana ': 21}\n"
     ]
    }
   ],
   "source": [
    "dic = {'Manuel': 20, 'Natalia': 18, 'Denisse ': 20, 'Daniel ': 21, 'Tadeo ': 20, 'Ana ': 21 }\n",
    "print(dic)"
   ]
  },
  {
   "cell_type": "markdown",
   "metadata": {},
   "source": [
    "**3.2 - Crear una lista con los valores de la edad y reacomodar la lista de menor a mayor valor.**"
   ]
  },
  {
   "cell_type": "code",
   "execution_count": 33,
   "metadata": {},
   "outputs": [
    {
     "name": "stdout",
     "output_type": "stream",
     "text": [
      "[18, 20, 20, 20, 21, 21]\n"
     ]
    }
   ],
   "source": [
    "edades=list(dic.values())\n",
    "edades.sort()\n",
    "print(edades)"
   ]
  },
  {
   "cell_type": "markdown",
   "metadata": {},
   "source": [
    "**3.3 - Usando el diccionario y un loop, imprimir solo los nombres.**\n"
   ]
  },
  {
   "cell_type": "code",
   "execution_count": 34,
   "metadata": {},
   "outputs": [
    {
     "name": "stdout",
     "output_type": "stream",
     "text": [
      "Manuel\n",
      "Natalia\n",
      "Denisse \n",
      "Daniel \n",
      "Tadeo \n",
      "Ana \n"
     ]
    }
   ],
   "source": [
    "for i in dic:\n",
    "    print(i)"
   ]
  },
  {
   "cell_type": "markdown",
   "metadata": {},
   "source": [
    "**3.4 - Añadir dos personas nuevas a tu diccionario, incluyendo edad.**"
   ]
  },
  {
   "cell_type": "code",
   "execution_count": 35,
   "metadata": {},
   "outputs": [
    {
     "name": "stdout",
     "output_type": "stream",
     "text": [
      "{'Manuel': 20, 'Natalia': 18, 'Denisse ': 20, 'Daniel ': 21, 'Tadeo ': 20, 'Ana ': 21, 'juan': 24, 'jose': 32}\n"
     ]
    }
   ],
   "source": [
    "dic['juan']=24\n",
    "dic['jose']=32\n",
    "print(dic)"
   ]
  },
  {
   "cell_type": "markdown",
   "metadata": {},
   "source": [
    "# 4 - Sets\n",
    "**4.1 - Crea un set con 100 numeros aleatorios enteros del 1 al 25.**\n",
    "\n"
   ]
  },
  {
   "cell_type": "code",
   "execution_count": 49,
   "metadata": {},
   "outputs": [
    {
     "name": "stdout",
     "output_type": "stream",
     "text": [
      "{1, 2, 3, 4, 5, 6, 7, 8, 9, 10, 11, 12, 13, 14, 15, 16, 17, 18, 19, 20, 21, 22, 23, 24, 25}\n"
     ]
    }
   ],
   "source": [
    "Conjunto = {random.randint(1, 25) for i in range(100)}\n",
    "print(Conjunto)"
   ]
  },
  {
   "cell_type": "markdown",
   "metadata": {},
   "source": [
    "**4.2 - Comprueba la longitud de tu set.**\n",
    "\n"
   ]
  },
  {
   "cell_type": "code",
   "execution_count": 50,
   "metadata": {},
   "outputs": [
    {
     "name": "stdout",
     "output_type": "stream",
     "text": [
      "25\n"
     ]
    }
   ],
   "source": [
    "print(len(Conjunto))"
   ]
  },
  {
   "cell_type": "markdown",
   "metadata": {},
   "source": [
    "**4.3 - Crea una lista de 5 numeros aleatorios del 1 al 10 y comprueba si cada valor aparece en el set inicial.**"
   ]
  },
  {
   "cell_type": "code",
   "execution_count": 59,
   "metadata": {},
   "outputs": [
    {
     "name": "stdout",
     "output_type": "stream",
     "text": [
      "9 esta en el conjunto \n",
      "6 esta en el conjunto \n",
      "1 esta en el conjunto \n",
      "3 esta en el conjunto \n",
      "9 esta en el conjunto \n"
     ]
    }
   ],
   "source": [
    "lista_aleatoria=[random.randint(1, 10) for i in range(5)]\n",
    "for i in lista_aleatoria:\n",
    "    if i in Conjunto:\n",
    "        print(f\"{i} esta en el conjunto \")\n",
    "    else:\n",
    "        print(f\"{i} no esta en el conjunto \")"
   ]
  }
 ],
 "metadata": {
  "kernelspec": {
   "display_name": "Python 3",
   "language": "python",
   "name": "python3"
  },
  "language_info": {
   "codemirror_mode": {
    "name": "ipython",
    "version": 3
   },
   "file_extension": ".py",
   "mimetype": "text/x-python",
   "name": "python",
   "nbconvert_exporter": "python",
   "pygments_lexer": "ipython3",
   "version": "3.8.3"
  }
 },
 "nbformat": 4,
 "nbformat_minor": 4
}
